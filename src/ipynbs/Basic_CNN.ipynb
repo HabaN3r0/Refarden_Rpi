{
  "nbformat": 4,
  "nbformat_minor": 0,
  "metadata": {
    "colab": {
      "name": "Basic CNN.ipynb",
      "version": "0.3.2",
      "provenance": []
    },
    "kernelspec": {
      "name": "python3",
      "display_name": "Python 3"
    }
  },
  "cells": [
    {
      "cell_type": "code",
      "metadata": {
        "id": "PquwWj3lR_Gk",
        "colab_type": "code",
        "colab": {}
      },
      "source": [
        "import tensorflow as tf\n",
        "import numpy as np\n",
        "import os\n",
        "import urllib.request\n",
        "import argparse\n",
        "import sys\n",
        "import cv2\n",
        "import glob"
      ],
      "execution_count": 0,
      "outputs": []
    },
    {
      "cell_type": "code",
      "metadata": {
        "id": "ktXrqJSKkP7X",
        "colab_type": "code",
        "outputId": "83eb6343-eac4-4905-fac5-8ce3b10af3c3",
        "colab": {
          "base_uri": "https://localhost:8080/",
          "height": 34
        }
      },
      "source": [
        "!ls"
      ],
      "execution_count": 0,
      "outputs": [
        {
          "output_type": "stream",
          "text": [
            "bvlc_alexnet.npy  sample_data  testModel\n"
          ],
          "name": "stdout"
        }
      ]
    },
    {
      "cell_type": "code",
      "metadata": {
        "id": "NOxJX0ONWRLx",
        "colab_type": "code",
        "colab": {}
      },
      "source": [
        "|# def maxPoolLayer(x, height, width, strideX, strideY, name = None, padding = 'SAME'):\n",
        "#   return tf.nn.max_pool(x, ksize = [1, height, width, 1], strides = [1, strideX, strideY, 1], padding = padding, name = name)\n",
        "\n",
        "# def dropout(x, rate, name = None):\n",
        "#   return tf.nn.dropout(x, rate = rate, name = name)\n",
        "\n",
        "# # Used to normalize unbounded activations from ReLU neurons\n",
        "# def LRN(x, R, alpha, beta, name = None, bias = 1.0):\n",
        "#   return tf.nn.local_response_normalization(x, depth_radius = R, alpha = alpha, beta = beta, bias = bias, name = name)\n",
        "\n",
        "# def fcLayer(x, inputD, outputD, reluFlag, name):\n",
        "#   with tf.variable_scope(name) as scope:\n",
        "#     w = tf.get_variable(\"w\", shape = )\n",
        "\n",
        "!ls\n",
        "    "
      ],
      "execution_count": 0,
      "outputs": []
    },
    {
      "cell_type": "code",
      "metadata": {
        "id": "InoGq9arXU9E",
        "colab_type": "code",
        "colab": {}
      },
      "source": [
        "def maxPoolLayer(x, kHeight, kWidth, strideX, strideY, name, padding = \"SAME\"):\n",
        "    \"\"\"max-pooling\"\"\"\n",
        "    return tf.nn.max_pool(x, ksize = [1, kHeight, kWidth, 1],\n",
        "                          strides = [1, strideX, strideY, 1], padding = padding, name = name)\n",
        "\n",
        "def dropout(x, rate, name = None):\n",
        "    \"\"\"dropout\"\"\"\n",
        "    return tf.nn.dropout(x, rate, name)\n",
        "\n",
        "# Used to normalize unbounded activations from ReLU neurons\n",
        "def LRN(x, R, alpha, beta, name = None, bias = 1.0):\n",
        "    \"\"\"LRN\"\"\"\n",
        "    return tf.nn.local_response_normalization(x, depth_radius = R, alpha = alpha,\n",
        "                                              beta = beta, bias = bias, name = name)\n",
        "\n",
        "def fcLayer(x, inputD, outputD, reluFlag, name):\n",
        "    \"\"\"fully-connect\"\"\"\n",
        "    with tf.variable_scope(name) as scope:\n",
        "        w = tf.get_variable(\"w\", shape = [inputD, outputD], dtype = \"float\")\n",
        "        b = tf.get_variable(\"b\", [outputD], dtype = \"float\")\n",
        "        out = tf.nn.xw_plus_b(x, w, b, name = scope.name)\n",
        "        if reluFlag:\n",
        "            return tf.nn.relu(out)\n",
        "        else:\n",
        "            return out\n",
        "\n",
        "def convLayer(x, kHeight, kWidth, strideX, strideY,\n",
        "              featureNum, name, padding = \"SAME\", groups = 1):\n",
        "    \"\"\"convolution\"\"\"\n",
        "    channel = int(x.get_shape()[-1])\n",
        "    conv = lambda a, b: tf.nn.conv2d(a, b, strides = [1, strideY, strideX, 1], padding = padding)\n",
        "    with tf.variable_scope(name) as scope:\n",
        "        w = tf.get_variable(\"w\", shape = [kHeight, kWidth, channel/groups, featureNum])\n",
        "        b = tf.get_variable(\"b\", shape = [featureNum])\n",
        "\n",
        "        xNew = tf.split(value = x, num_or_size_splits = groups, axis = 3)\n",
        "        wNew = tf.split(value = w, num_or_size_splits = groups, axis = 3)\n",
        "\n",
        "        featureMap = [conv(t1, t2) for t1, t2 in zip(xNew, wNew)]\n",
        "        mergeFeatureMap = tf.concat(axis = 3, values = featureMap)\n",
        "        \n",
        "        out = tf.nn.bias_add(mergeFeatureMap, b)\n",
        "        return tf.nn.relu(tf.reshape(out, mergeFeatureMap.get_shape().as_list()), name = scope.name)\n"
      ],
      "execution_count": 0,
      "outputs": []
    },
    {
      "cell_type": "code",
      "metadata": {
        "id": "fnmfqWt-dStI",
        "colab_type": "code",
        "colab": {}
      },
      "source": [
        "class alexNet(object):\n",
        "    \"\"\"alexNet model\"\"\"\n",
        "    def __init__(self, x, keepPro, classNum, skip, modelPath = \"bvlc_alexnet.npy\"):\n",
        "        self.X = x\n",
        "        self.KEEPPRO = keepPro\n",
        "        self.CLASSNUM = classNum\n",
        "        self.SKIP = skip\n",
        "        self.MODELPATH = modelPath\n",
        "        self.buildCNN()\n",
        "\n",
        "    def buildCNN(self):\n",
        "        \"\"\"build model\"\"\"\n",
        "        conv1 = convLayer(self.X, 11, 11, 4, 4, 96, \"conv1\", \"VALID\")\n",
        "        lrn1 = LRN(conv1, 2, 2e-05, 0.75, \"norm1\")\n",
        "        pool1 = maxPoolLayer(lrn1, 3, 3, 2, 2, \"pool1\", \"VALID\")\n",
        "\n",
        "        conv2 = convLayer(pool1, 5, 5, 1, 1, 256, \"conv2\", groups = 2)\n",
        "        lrn2 = LRN(conv2, 2, 2e-05, 0.75, \"lrn2\")\n",
        "        pool2 = maxPoolLayer(lrn2, 3, 3, 2, 2, \"pool2\", \"VALID\")\n",
        "\n",
        "        conv3 = convLayer(pool2, 3, 3, 1, 1, 384, \"conv3\")\n",
        "\n",
        "        conv4 = convLayer(conv3, 3, 3, 1, 1, 384, \"conv4\", groups = 2)\n",
        "\n",
        "        conv5 = convLayer(conv4, 3, 3, 1, 1, 256, \"conv5\", groups = 2)\n",
        "        pool5 = maxPoolLayer(conv5, 3, 3, 2, 2, \"pool5\", \"VALID\")\n",
        "\n",
        "        fcIn = tf.reshape(pool5, [-1, 256 * 6 * 6])\n",
        "        fc1 = fcLayer(fcIn, 256 * 6 * 6, 4096, True, \"fc6\")\n",
        "        dropout1 = dropout(fc1, self.KEEPPRO)\n",
        "\n",
        "        fc2 = fcLayer(dropout1, 4096, 4096, True, \"fc7\")\n",
        "        dropout2 = dropout(fc2, self.KEEPPRO)\n",
        "\n",
        "        self.fc3 = fcLayer(dropout2, 4096, self.CLASSNUM, True, \"fc8\")\n",
        "\n",
        "    def loadModel(self, sess):\n",
        "        \"\"\"load model\"\"\"\n",
        "        wDict = np.load(self.MODELPATH, encoding = \"bytes\").item()\n",
        "        for name in wDict:\n",
        "            if name not in self.SKIP:\n",
        "                with tf.variable_scope(name, reuse = True):\n",
        "                    for p in wDict[name]:\n",
        "                        if len(p.shape) == 1:\n",
        "                            \n",
        "                            sess.run(tf.get_variable('b', trainable = False).assign(p))\n",
        "                        else:\n",
        "                            sess.run(tf.get_variable('w', trainable = False).assign(p))"
      ],
      "execution_count": 0,
      "outputs": []
    },
    {
      "cell_type": "code",
      "metadata": {
        "id": "ysHXkiVtdyFq",
        "colab_type": "code",
        "outputId": "da235b5e-6192-4c30-fc94-b94f2424c050",
        "colab": {
          "base_uri": "https://localhost:8080/",
          "height": 143
        }
      },
      "source": [
        "dropoutRate = 0.25\n",
        "classNum = 1000\n",
        "skip = []\n",
        "#get testImage\n",
        "testPath = \"testModel\"\n",
        "testImg = []\n",
        "\n",
        "def listdir_nohidden(path):\n",
        "    return glob.glob(os.path.join(path, '*')) # so there is no problem with hidden files\n",
        "\n",
        "for f in listdir_nohidden(testPath):\n",
        "#     print(f)\n",
        "    testImg.append(cv2.imread(f))\n",
        " \n",
        "imgMean = np.array([104, 117, 124], np.float)\n",
        "x = tf.placeholder(\"float\", [1, 227, 227, 3])\n",
        " \n",
        "model = alexNet(x, dropoutRate, classNum, skip)\n",
        "score = model.fc3\n",
        "softmax = tf.nn.softmax(score)"
      ],
      "execution_count": 0,
      "outputs": [
        {
          "output_type": "stream",
          "text": [
            "WARNING:tensorflow:From /usr/local/lib/python3.6/dist-packages/tensorflow/python/framework/op_def_library.py:263: colocate_with (from tensorflow.python.framework.ops) is deprecated and will be removed in a future version.\n",
            "Instructions for updating:\n",
            "Colocations handled automatically by placer.\n",
            "WARNING:tensorflow:From <ipython-input-2-94acc6391724>:8: calling dropout (from tensorflow.python.ops.nn_ops) with keep_prob is deprecated and will be removed in a future version.\n",
            "Instructions for updating:\n",
            "Please use `rate` instead of `keep_prob`. Rate should be set to `rate = 1 - keep_prob`.\n"
          ],
          "name": "stdout"
        }
      ]
    },
    {
      "cell_type": "code",
      "metadata": {
        "id": "eeS7XrJfeG1X",
        "colab_type": "code",
        "colab": {}
      },
      "source": [
        "with tf.Session() as sess:\n",
        "    sess.run(tf.global_variables_initializer())\n",
        "    model.loadModel(sess) #Load the model"
      ],
      "execution_count": 0,
      "outputs": []
    },
    {
      "cell_type": "code",
      "metadata": {
        "id": "FPocvAUSiUzD",
        "colab_type": "code",
        "colab": {}
      },
      "source": [
        ""
      ],
      "execution_count": 0,
      "outputs": []
    }
  ]
}