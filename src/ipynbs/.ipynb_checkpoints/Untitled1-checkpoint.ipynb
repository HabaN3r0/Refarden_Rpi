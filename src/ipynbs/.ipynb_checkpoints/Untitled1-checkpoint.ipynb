{
 "cells": [
  {
   "cell_type": "code",
   "execution_count": 1,
   "metadata": {
    "ExecuteTime": {
     "end_time": "2019-06-14T02:11:49.699097Z",
     "start_time": "2019-06-14T02:11:49.480682Z"
    }
   },
   "outputs": [],
   "source": [
    "import cv2\n",
    "import os\n",
    "\n",
    "%matplotlib inline"
   ]
  },
  {
   "cell_type": "code",
   "execution_count": 14,
   "metadata": {
    "ExecuteTime": {
     "end_time": "2019-06-14T02:14:44.097289Z",
     "start_time": "2019-06-14T02:14:43.696362Z"
    }
   },
   "outputs": [
    {
     "name": "stdout",
     "output_type": "stream",
     "text": [
      "Unable to resize\n"
     ]
    }
   ],
   "source": [
    "foldername = \"C:/Users/user/Pictures/\"\n",
    "filename = \"images.jpg\"\n",
    "\n",
    "img = cv2.imread(os.path.join(foldername, filename))\n",
    "try:\n",
    "    res = cv2.resie(img, dsize = (250, 250))\n",
    "except:\n",
    "    print(\"Unable to resize\")\n"
   ]
  },
  {
   "cell_type": "code",
   "execution_count": null,
   "metadata": {
    "ExecuteTime": {
     "start_time": "2019-06-14T02:14:45.733Z"
    }
   },
   "outputs": [],
   "source": [
    "cv2.imshow('image', img)\n",
    "cv2.waitKey(0)\n",
    "cv2.destroyAllWindows()"
   ]
  },
  {
   "cell_type": "code",
   "execution_count": 13,
   "metadata": {
    "ExecuteTime": {
     "end_time": "2019-06-14T02:14:37.006253Z",
     "start_time": "2019-06-14T02:14:37.001266Z"
    }
   },
   "outputs": [
    {
     "name": "stdout",
     "output_type": "stream",
     "text": [
      "[[[231 225 206]\n",
      "  [232 226 207]\n",
      "  [234 228 209]\n",
      "  ...\n",
      "  [141 141 117]\n",
      "  [144 144 120]\n",
      "  [146 146 122]]\n",
      "\n",
      " [[234 228 209]\n",
      "  [234 228 209]\n",
      "  [235 229 210]\n",
      "  ...\n",
      "  [144 144 120]\n",
      "  [146 146 122]\n",
      "  [148 148 124]]\n",
      "\n",
      " [[239 233 214]\n",
      "  [238 232 213]\n",
      "  [237 231 212]\n",
      "  ...\n",
      "  [151 151 127]\n",
      "  [152 152 128]\n",
      "  [153 153 129]]\n",
      "\n",
      " ...\n",
      "\n",
      " [[232 229 224]\n",
      "  [229 226 221]\n",
      "  [228 225 220]\n",
      "  ...\n",
      "  [145 145 129]\n",
      "  [146 145 131]\n",
      "  [148 146 135]]\n",
      "\n",
      " [[234 231 226]\n",
      "  [228 225 220]\n",
      "  [225 222 217]\n",
      "  ...\n",
      "  [141 141 125]\n",
      "  [143 143 127]\n",
      "  [147 147 131]]\n",
      "\n",
      " [[247 244 239]\n",
      "  [239 236 231]\n",
      "  [235 232 227]\n",
      "  ...\n",
      "  [140 140 122]\n",
      "  [141 141 123]\n",
      "  [146 146 130]]]\n"
     ]
    }
   ],
   "source": [
    "print(img[900:1000,:,:])\n"
   ]
  },
  {
   "cell_type": "code",
   "execution_count": null,
   "metadata": {},
   "outputs": [],
   "source": []
  }
 ],
 "metadata": {
  "kernelspec": {
   "display_name": "Python 3",
   "language": "python",
   "name": "python3"
  },
  "language_info": {
   "codemirror_mode": {
    "name": "ipython",
    "version": 3
   },
   "file_extension": ".py",
   "mimetype": "text/x-python",
   "name": "python",
   "nbconvert_exporter": "python",
   "pygments_lexer": "ipython3",
   "version": "3.7.3"
  },
  "toc": {
   "base_numbering": 1,
   "nav_menu": {},
   "number_sections": true,
   "sideBar": true,
   "skip_h1_title": false,
   "title_cell": "Table of Contents",
   "title_sidebar": "Contents",
   "toc_cell": false,
   "toc_position": {},
   "toc_section_display": true,
   "toc_window_display": false
  },
  "varInspector": {
   "cols": {
    "lenName": 16,
    "lenType": 16,
    "lenVar": 40
   },
   "kernels_config": {
    "python": {
     "delete_cmd_postfix": "",
     "delete_cmd_prefix": "del ",
     "library": "var_list.py",
     "varRefreshCmd": "print(var_dic_list())"
    },
    "r": {
     "delete_cmd_postfix": ") ",
     "delete_cmd_prefix": "rm(",
     "library": "var_list.r",
     "varRefreshCmd": "cat(var_dic_list()) "
    }
   },
   "types_to_exclude": [
    "module",
    "function",
    "builtin_function_or_method",
    "instance",
    "_Feature"
   ],
   "window_display": false
  }
 },
 "nbformat": 4,
 "nbformat_minor": 2
}
